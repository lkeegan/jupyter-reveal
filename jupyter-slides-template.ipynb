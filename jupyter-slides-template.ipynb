{
 "cells": [
  {
   "cell_type": "markdown",
   "id": "1e4bbd6c",
   "metadata": {
    "slideshow": {
     "slide_type": "slide"
    }
   },
   "source": [
    "# jupyter-slides-template\n",
    "\n",
    "- Automatically generated from this [jupyter notebook](https://github.com/ssciwr/jupyter-slides-template/blob/master/jupyter-slides-template.ipynb)\n",
    "- Press `Space` or `Right`to move to the next page\n",
    "- Press `Escape` to zoom out\n",
    "- Make your own at [github.com/ssciwr/jupyter-slides-template](https://github.com/ssciwr/jupyter-slides-template)"
   ]
  },
  {
   "cell_type": "markdown",
   "id": "c6390b0d",
   "metadata": {
    "slideshow": {
     "slide_type": "slide"
    }
   },
   "source": [
    "## Display a cell with its output"
   ]
  },
  {
   "cell_type": "code",
   "execution_count": null,
   "id": "189a6a56",
   "metadata": {
    "slideshow": {
     "slide_type": "fragment"
    }
   },
   "outputs": [],
   "source": [
    "import sme\n",
    "\n",
    "model = sme.open_example_model()\n",
    "print(model)"
   ]
  },
  {
   "cell_type": "markdown",
   "id": "12d1a75c",
   "metadata": {
    "slideshow": {
     "slide_type": "slide"
    }
   },
   "source": [
    "## Output can be plots or images"
   ]
  },
  {
   "cell_type": "code",
   "execution_count": null,
   "id": "1ae11bfc",
   "metadata": {
    "slideshow": {
     "slide_type": "fragment"
    }
   },
   "outputs": [],
   "source": [
    "import matplotlib.pyplot as plt\n",
    "\n",
    "plt.title(model.name)\n",
    "plt.imshow(model.compartment_image)\n",
    "plt.show()"
   ]
  },
  {
   "cell_type": "markdown",
   "id": "df4f2479",
   "metadata": {
    "slideshow": {
     "slide_type": "slide"
    }
   },
   "source": [
    "## Or even videos"
   ]
  },
  {
   "cell_type": "code",
   "execution_count": null,
   "id": "d9d162e3",
   "metadata": {
    "slideshow": {
     "slide_type": "fragment"
    }
   },
   "outputs": [],
   "source": [
    "import sme_contrib.plot as smeplot\n",
    "from IPython.display import HTML\n",
    "\n",
    "results = model.simulate(100, 10)\n",
    "anim = smeplot.concentration_heatmap_animation(results, [\"B_cell\"])\n",
    "HTML(anim.to_html5_video())"
   ]
  },
  {
   "cell_type": "markdown",
   "id": "21464345",
   "metadata": {
    "slideshow": {
     "slide_type": "slide"
    }
   },
   "source": [
    "## More information\n",
    "\n",
    "- https://medium.com/@mjspeck/presenting-code-using-jupyter-notebook-slides-a8a3c3b59d67\n",
    "- https://www.blog.pythonlibrary.org/2018/09/25/creating-presentations-with-jupyter-notebook/\n",
    "- https://rise.readthedocs.io/\n",
    "- https://github.com/ssciwr/jupyter-slides-template"
   ]
  }
 ],
 "metadata": {
  "celltoolbar": "Slideshow",
  "kernelspec": {
   "display_name": "Python 3 (ipykernel)",
   "language": "python",
   "name": "python3"
  },
  "language_info": {
   "codemirror_mode": {
    "name": "ipython",
    "version": 3
   },
   "file_extension": ".py",
   "mimetype": "text/x-python",
   "name": "python",
   "nbconvert_exporter": "python",
   "pygments_lexer": "ipython3",
   "version": "3.9.4"
  }
 },
 "nbformat": 4,
 "nbformat_minor": 5
}
