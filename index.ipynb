{
 "cells": [
  {
   "cell_type": "markdown",
   "id": "1e4bbd6c",
   "metadata": {
    "slideshow": {
     "slide_type": "slide"
    }
   },
   "source": [
    "# jupyter-slides-template\n",
    "\n",
    "- Automatically generated from this [jupyter notebook](https://github.com/lkeegan/jupyter-reveal/blob/master/index.ipynb)\n",
    "- Press `Space` or `Right`to move to the next page\n",
    "- Press `Escape` to zoom out\n",
    "- Make your own at [github.com/lkeegan/jupyter-reveal](https://github.com/lkeegan/jupyter-reveal)"
   ]
  },
  {
   "cell_type": "code",
   "execution_count": null,
   "id": "189a6a56",
   "metadata": {
    "slideshow": {
     "slide_type": "slide"
    }
   },
   "outputs": [],
   "source": [
    "import sme\n",
    "import matplotlib.pyplot as plt\n",
    "\n",
    "model = sme.open_example_model()\n",
    "print(model)"
   ]
  },
  {
   "cell_type": "code",
   "execution_count": null,
   "id": "1ae11bfc",
   "metadata": {
    "slideshow": {
     "slide_type": "slide"
    }
   },
   "outputs": [],
   "source": [
    "plt.title(model.name)\n",
    "plt.imshow(model.compartment_image)\n",
    "plt.show()"
   ]
  },
  {
   "cell_type": "code",
   "execution_count": null,
   "id": "d9d162e3",
   "metadata": {
    "slideshow": {
     "slide_type": "slide"
    }
   },
   "outputs": [],
   "source": [
    "import sme_contrib.plot as smeplot\n",
    "import sme\n",
    "from IPython.display import HTML\n",
    "\n",
    "model = sme.open_example_model()\n",
    "results = model.simulate(100, 10)\n",
    "print(model.compartments[\"Cell\"])"
   ]
  }
 ],
 "metadata": {
  "celltoolbar": "Slideshow",
  "kernelspec": {
   "display_name": "Python 3 (ipykernel)",
   "language": "python",
   "name": "python3"
  },
  "language_info": {
   "codemirror_mode": {
    "name": "ipython",
    "version": 3
   },
   "file_extension": ".py",
   "mimetype": "text/x-python",
   "name": "python",
   "nbconvert_exporter": "python",
   "pygments_lexer": "ipython3",
   "version": "3.9.4"
  }
 },
 "nbformat": 4,
 "nbformat_minor": 5
}
